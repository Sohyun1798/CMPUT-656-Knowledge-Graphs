{
 "cells": [
  {
   "cell_type": "code",
   "execution_count": 1,
   "metadata": {},
   "outputs": [],
   "source": [
    "import pandas as pd\n",
    "from collections import Counter\n",
    "import json\n",
    "from sklearn import preprocessing\n",
    "from sklearn import svm, datasets\n",
    "import sklearn.model_selection as model_selection\n",
    "from sklearn.metrics import accuracy_score\n",
    "from sklearn.metrics import f1_score"
   ]
  },
  {
   "cell_type": "code",
   "execution_count": 2,
   "metadata": {},
   "outputs": [
    {
     "data": {
      "text/html": [
       "<div>\n",
       "<style scoped>\n",
       "    .dataframe tbody tr th:only-of-type {\n",
       "        vertical-align: middle;\n",
       "    }\n",
       "\n",
       "    .dataframe tbody tr th {\n",
       "        vertical-align: top;\n",
       "    }\n",
       "\n",
       "    .dataframe thead th {\n",
       "        text-align: right;\n",
       "    }\n",
       "</style>\n",
       "<table border=\"1\" class=\"dataframe\">\n",
       "  <thead>\n",
       "    <tr style=\"text-align: right;\">\n",
       "      <th></th>\n",
       "      <th>Unnamed: 0</th>\n",
       "      <th>sentence_ID</th>\n",
       "      <th>entity_name</th>\n",
       "      <th>fine_grain</th>\n",
       "      <th>sentence</th>\n",
       "      <th>global coarse grained</th>\n",
       "    </tr>\n",
       "  </thead>\n",
       "  <tbody>\n",
       "    <tr>\n",
       "      <th>0</th>\n",
       "      <td>65</td>\n",
       "      <td>44</td>\n",
       "      <td>Locomotion No. 1</td>\n",
       "      <td>['/train']</td>\n",
       "      <td>The first 0-4-0 to use coupling rods was Locom...</td>\n",
       "      <td>train</td>\n",
       "    </tr>\n",
       "    <tr>\n",
       "      <th>1</th>\n",
       "      <td>67</td>\n",
       "      <td>44</td>\n",
       "      <td>Stockton and Darlington Railway</td>\n",
       "      <td>['/rail/railway', '/organization', '/organizat...</td>\n",
       "      <td>The first 0-4-0 to use coupling rods was Locom...</td>\n",
       "      <td>rail</td>\n",
       "    </tr>\n",
       "    <tr>\n",
       "      <th>2</th>\n",
       "      <td>86</td>\n",
       "      <td>53</td>\n",
       "      <td>East Coast Main Trunk Railway</td>\n",
       "      <td>['/rail/railway', '/location', '/rail']</td>\n",
       "      <td>One such locomotive , built by Peckett and Son...</td>\n",
       "      <td>rail</td>\n",
       "    </tr>\n",
       "    <tr>\n",
       "      <th>3</th>\n",
       "      <td>90</td>\n",
       "      <td>56</td>\n",
       "      <td>Midland Railway 2228 Class</td>\n",
       "      <td>['/train']</td>\n",
       "      <td>Examples have included the LSWR O2 Class , Mid...</td>\n",
       "      <td>train</td>\n",
       "    </tr>\n",
       "    <tr>\n",
       "      <th>4</th>\n",
       "      <td>91</td>\n",
       "      <td>56</td>\n",
       "      <td>LSWR M7 Class</td>\n",
       "      <td>['/train']</td>\n",
       "      <td>Examples have included the LSWR O2 Class , Mid...</td>\n",
       "      <td>train</td>\n",
       "    </tr>\n",
       "  </tbody>\n",
       "</table>\n",
       "</div>"
      ],
      "text/plain": [
       "   Unnamed: 0  sentence_ID                      entity_name  \\\n",
       "0          65           44                 Locomotion No. 1   \n",
       "1          67           44  Stockton and Darlington Railway   \n",
       "2          86           53    East Coast Main Trunk Railway   \n",
       "3          90           56       Midland Railway 2228 Class   \n",
       "4          91           56                    LSWR M7 Class   \n",
       "\n",
       "                                          fine_grain  \\\n",
       "0                                         ['/train']   \n",
       "1  ['/rail/railway', '/organization', '/organizat...   \n",
       "2            ['/rail/railway', '/location', '/rail']   \n",
       "3                                         ['/train']   \n",
       "4                                         ['/train']   \n",
       "\n",
       "                                            sentence global coarse grained  \n",
       "0  The first 0-4-0 to use coupling rods was Locom...                 train  \n",
       "1  The first 0-4-0 to use coupling rods was Locom...                  rail  \n",
       "2  One such locomotive , built by Peckett and Son...                  rail  \n",
       "3  Examples have included the LSWR O2 Class , Mid...                 train  \n",
       "4  Examples have included the LSWR O2 Class , Mid...                 train  "
      ]
     },
     "execution_count": 2,
     "metadata": {},
     "output_type": "execute_result"
    }
   ],
   "source": [
    "df = pd.read_csv('../../Dataset/global_LFT_dataset.csv')\n",
    "df.head()"
   ]
  },
  {
   "cell_type": "code",
   "execution_count": 3,
   "metadata": {},
   "outputs": [],
   "source": [
    "with open('global_entity_name_conceptNET_embeddings.json', 'r') as f:\n",
    "    data = json.load(f)"
   ]
  },
  {
   "cell_type": "code",
   "execution_count": 4,
   "metadata": {},
   "outputs": [],
   "source": [
    "entities = list(df['entity_name'].values)\n",
    "coarse_grained = list(df['global coarse grained'].values)\n",
    "X = []\n",
    "out_of_vocab = 0\n",
    "in_vocab = 0\n",
    "y = []\n",
    "for entity, coarse_grain in zip(entities,coarse_grained):\n",
    "    if entity not in data:out_of_vocab+=1\n",
    "    else:\n",
    "        in_vocab+=1\n",
    "        X.append(data[entity])\n",
    "        y.append(coarse_grain)"
   ]
  },
  {
   "cell_type": "code",
   "execution_count": 5,
   "metadata": {},
   "outputs": [
    {
     "data": {
      "text/plain": [
       "(6542, 73588)"
      ]
     },
     "execution_count": 5,
     "metadata": {},
     "output_type": "execute_result"
    }
   ],
   "source": [
    "out_of_vocab, in_vocab"
   ]
  },
  {
   "cell_type": "code",
   "execution_count": 6,
   "metadata": {},
   "outputs": [],
   "source": [
    "le = preprocessing.LabelEncoder()\n",
    "le.fit(y)\n",
    "y_encoded = le.transform(y)"
   ]
  },
  {
   "cell_type": "code",
   "execution_count": 7,
   "metadata": {},
   "outputs": [
    {
     "data": {
      "text/plain": [
       "['astral_body',\n",
       " 'award',\n",
       " 'biology',\n",
       " 'body_part',\n",
       " 'broadcast',\n",
       " 'broadcast_network',\n",
       " 'computer',\n",
       " 'disease',\n",
       " 'finance',\n",
       " 'food',\n",
       " 'god',\n",
       " 'government_agency',\n",
       " 'internet',\n",
       " 'law',\n",
       " 'livingthing',\n",
       " 'metropolitan_transit',\n",
       " 'news_agency',\n",
       " 'newspaper',\n",
       " 'play',\n",
       " 'rail',\n",
       " 'time',\n",
       " 'train',\n",
       " 'transit',\n",
       " 'visual_art']"
      ]
     },
     "execution_count": 7,
     "metadata": {},
     "output_type": "execute_result"
    }
   ],
   "source": [
    "classes = list(le.classes_)\n",
    "classes"
   ]
  },
  {
   "cell_type": "code",
   "execution_count": 8,
   "metadata": {},
   "outputs": [
    {
     "data": {
      "text/plain": [
       "('train', 21)"
      ]
     },
     "execution_count": 8,
     "metadata": {},
     "output_type": "execute_result"
    }
   ],
   "source": [
    "y[0],y_encoded[0]"
   ]
  },
  {
   "cell_type": "code",
   "execution_count": 9,
   "metadata": {},
   "outputs": [],
   "source": [
    "X_train, X_test, y_train, y_test = model_selection.train_test_split(X, y_encoded, train_size=0.80, test_size=0.20, random_state=101)"
   ]
  },
  {
   "cell_type": "code",
   "execution_count": 10,
   "metadata": {},
   "outputs": [],
   "source": [
    "X_train = X_train[:957828]\n",
    "y_train = y_train[:957828]"
   ]
  },
  {
   "cell_type": "code",
   "execution_count": 11,
   "metadata": {},
   "outputs": [],
   "source": [
    "rbf = svm.SVC(kernel='rbf', gamma=0.5, C=0.1).fit(X_train, y_train)\n",
    "# poly = svm.SVC(kernel='poly', degree=3, C=1).fit(X_train, y_train)"
   ]
  },
  {
   "cell_type": "code",
   "execution_count": 12,
   "metadata": {},
   "outputs": [],
   "source": [
    "# poly_pred = poly.predict(X_test)\n",
    "rbf_pred = rbf.predict(X_test)"
   ]
  },
  {
   "cell_type": "code",
   "execution_count": 16,
   "metadata": {},
   "outputs": [
    {
     "name": "stdout",
     "output_type": "stream",
     "text": [
      "GLOBAL FIGER LFT : \n",
      "Accuracy :  0.895094442179644\n",
      "F1 :  0.89461592895294\n"
     ]
    }
   ],
   "source": [
    "rbf_accuracy = accuracy_score(y_test,rbf_pred)\n",
    "rbf_f1 = f1_score(y_test,rbf_pred,average='weighted')\n",
    "print('GLOBAL FIGER LFT : ')\n",
    "print('Accuracy : ', rbf_accuracy)\n",
    "print('Weighted F1 : ', rbf_f1)"
   ]
  },
  {
   "cell_type": "code",
   "execution_count": 17,
   "metadata": {},
   "outputs": [
    {
     "name": "stdout",
     "output_type": "stream",
     "text": [
      "GLOBAL FIGER LFT : \n",
      "Accuracy :  0.895094442179644\n",
      "Macro F1 :  0.8165408332096965\n"
     ]
    }
   ],
   "source": [
    "rbf_accuracy = accuracy_score(y_test,rbf_pred)\n",
    "rbf_f1 = f1_score(y_test,rbf_pred,average='macro')\n",
    "print('GLOBAL FIGER LFT : ')\n",
    "print('Accuracy : ', rbf_accuracy)\n",
    "print('Macro F1 : ', rbf_f1)"
   ]
  },
  {
   "cell_type": "code",
   "execution_count": 18,
   "metadata": {},
   "outputs": [
    {
     "name": "stdout",
     "output_type": "stream",
     "text": [
      "GLOBAL FIGER LFT : \n",
      "Accuracy :  0.895094442179644\n",
      "Micro F1 :  0.8950944421796441\n"
     ]
    }
   ],
   "source": [
    "rbf_accuracy = accuracy_score(y_test,rbf_pred)\n",
    "rbf_f1 = f1_score(y_test,rbf_pred,average='micro')\n",
    "print('GLOBAL FIGER LFT : ')\n",
    "print('Accuracy : ', rbf_accuracy)\n",
    "print('Micro F1 : ', rbf_f1)"
   ]
  },
  {
   "cell_type": "code",
   "execution_count": null,
   "metadata": {},
   "outputs": [],
   "source": []
  }
 ],
 "metadata": {
  "kernelspec": {
   "display_name": "Python 3",
   "language": "python",
   "name": "python3"
  },
  "language_info": {
   "codemirror_mode": {
    "name": "ipython",
    "version": 3
   },
   "file_extension": ".py",
   "mimetype": "text/x-python",
   "name": "python",
   "nbconvert_exporter": "python",
   "pygments_lexer": "ipython3",
   "version": "3.6.8"
  }
 },
 "nbformat": 4,
 "nbformat_minor": 5
}
