{
 "cells": [
  {
   "cell_type": "code",
   "execution_count": 1,
   "metadata": {},
   "outputs": [],
   "source": [
    "import pandas as pd\n",
    "from collections import Counter\n",
    "import json\n",
    "from sklearn import preprocessing\n",
    "from sklearn import svm, datasets\n",
    "import sklearn.model_selection as model_selection\n",
    "from sklearn.metrics import accuracy_score\n",
    "from sklearn.metrics import f1_score"
   ]
  },
  {
   "cell_type": "code",
   "execution_count": 2,
   "metadata": {},
   "outputs": [
    {
     "data": {
      "text/html": [
       "<div>\n",
       "<style scoped>\n",
       "    .dataframe tbody tr th:only-of-type {\n",
       "        vertical-align: middle;\n",
       "    }\n",
       "\n",
       "    .dataframe tbody tr th {\n",
       "        vertical-align: top;\n",
       "    }\n",
       "\n",
       "    .dataframe thead th {\n",
       "        text-align: right;\n",
       "    }\n",
       "</style>\n",
       "<table border=\"1\" class=\"dataframe\">\n",
       "  <thead>\n",
       "    <tr style=\"text-align: right;\">\n",
       "      <th></th>\n",
       "      <th>Unnamed: 0</th>\n",
       "      <th>sentence_ID</th>\n",
       "      <th>entity_name</th>\n",
       "      <th>fine_grain</th>\n",
       "      <th>sentence</th>\n",
       "      <th>coarse_grain</th>\n",
       "    </tr>\n",
       "  </thead>\n",
       "  <tbody>\n",
       "    <tr>\n",
       "      <th>0</th>\n",
       "      <td>0</td>\n",
       "      <td>15</td>\n",
       "      <td>European Union</td>\n",
       "      <td>['/people/ethnicity', '/location/country', '/l...</td>\n",
       "      <td>112 Emergency phone number across the European...</td>\n",
       "      <td>/people</td>\n",
       "    </tr>\n",
       "    <tr>\n",
       "      <th>1</th>\n",
       "      <td>1</td>\n",
       "      <td>15</td>\n",
       "      <td>European Union</td>\n",
       "      <td>['/people/ethnicity', '/location/country', '/l...</td>\n",
       "      <td>112 Emergency phone number across the European...</td>\n",
       "      <td>/location</td>\n",
       "    </tr>\n",
       "    <tr>\n",
       "      <th>2</th>\n",
       "      <td>2</td>\n",
       "      <td>15</td>\n",
       "      <td>European Union</td>\n",
       "      <td>['/people/ethnicity', '/location/country', '/l...</td>\n",
       "      <td>112 Emergency phone number across the European...</td>\n",
       "      <td>/person</td>\n",
       "    </tr>\n",
       "    <tr>\n",
       "      <th>3</th>\n",
       "      <td>4</td>\n",
       "      <td>44</td>\n",
       "      <td>Stockton and Darlington Railway</td>\n",
       "      <td>['/rail/railway', '/organization', '/organizat...</td>\n",
       "      <td>The first 0-4-0 to use coupling rods was Locom...</td>\n",
       "      <td>/organization</td>\n",
       "    </tr>\n",
       "    <tr>\n",
       "      <th>4</th>\n",
       "      <td>5</td>\n",
       "      <td>51</td>\n",
       "      <td>New Zealand Railways Department</td>\n",
       "      <td>['/organization', '/government_agency']</td>\n",
       "      <td>The 0-4-2T arrangement was used by two classes...</td>\n",
       "      <td>/organization</td>\n",
       "    </tr>\n",
       "  </tbody>\n",
       "</table>\n",
       "</div>"
      ],
      "text/plain": [
       "   Unnamed: 0  sentence_ID                      entity_name  \\\n",
       "0           0           15                   European Union   \n",
       "1           1           15                   European Union   \n",
       "2           2           15                   European Union   \n",
       "3           4           44  Stockton and Darlington Railway   \n",
       "4           5           51  New Zealand Railways Department   \n",
       "\n",
       "                                          fine_grain  \\\n",
       "0  ['/people/ethnicity', '/location/country', '/l...   \n",
       "1  ['/people/ethnicity', '/location/country', '/l...   \n",
       "2  ['/people/ethnicity', '/location/country', '/l...   \n",
       "3  ['/rail/railway', '/organization', '/organizat...   \n",
       "4            ['/organization', '/government_agency']   \n",
       "\n",
       "                                            sentence   coarse_grain  \n",
       "0  112 Emergency phone number across the European...        /people  \n",
       "1  112 Emergency phone number across the European...      /location  \n",
       "2  112 Emergency phone number across the European...        /person  \n",
       "3  The first 0-4-0 to use coupling rods was Locom...  /organization  \n",
       "4  The 0-4-2T arrangement was used by two classes...  /organization  "
      ]
     },
     "execution_count": 2,
     "metadata": {},
     "output_type": "execute_result"
    }
   ],
   "source": [
    "df = pd.read_csv('../../Dataset/Local_MFT_dataset.csv')\n",
    "df.head()"
   ]
  },
  {
   "cell_type": "code",
   "execution_count": 3,
   "metadata": {},
   "outputs": [],
   "source": [
    "with open('local_entity_name_conceptNET_embeddings.json', 'r') as f:\n",
    "    data = json.load(f)"
   ]
  },
  {
   "cell_type": "code",
   "execution_count": 5,
   "metadata": {},
   "outputs": [],
   "source": [
    "entities = list(df['entity_name'].values)\n",
    "coarse_grained = list(df['coarse_grain'].values)\n",
    "X = []\n",
    "out_of_vocab = 0\n",
    "in_vocab = 0\n",
    "y = []\n",
    "for entity, coarse_grain in zip(entities,coarse_grained):\n",
    "    if entity not in data:out_of_vocab+=1\n",
    "    else:\n",
    "        in_vocab+=1\n",
    "        X.append(data[entity])\n",
    "        y.append(coarse_grain)"
   ]
  },
  {
   "cell_type": "code",
   "execution_count": 6,
   "metadata": {},
   "outputs": [
    {
     "data": {
      "text/plain": [
       "(222323, 2694610)"
      ]
     },
     "execution_count": 6,
     "metadata": {},
     "output_type": "execute_result"
    }
   ],
   "source": [
    "out_of_vocab, in_vocab"
   ]
  },
  {
   "cell_type": "code",
   "execution_count": 7,
   "metadata": {},
   "outputs": [],
   "source": [
    "le = preprocessing.LabelEncoder()\n",
    "le.fit(y)\n",
    "y_encoded = le.transform(y)"
   ]
  },
  {
   "cell_type": "code",
   "execution_count": 8,
   "metadata": {},
   "outputs": [
    {
     "data": {
      "text/plain": [
       "['/art',\n",
       " '/broadcast_program',\n",
       " '/building',\n",
       " '/education',\n",
       " '/event',\n",
       " '/food',\n",
       " '/geography',\n",
       " '/government',\n",
       " '/government_agency',\n",
       " '/language',\n",
       " '/living_thing',\n",
       " '/location',\n",
       " '/medicine',\n",
       " '/military',\n",
       " '/music',\n",
       " '/organization',\n",
       " '/people',\n",
       " '/person',\n",
       " '/product',\n",
       " '/religion',\n",
       " '/software',\n",
       " '/title',\n",
       " '/transportation',\n",
       " '/written_work']"
      ]
     },
     "execution_count": 8,
     "metadata": {},
     "output_type": "execute_result"
    }
   ],
   "source": [
    "classes = list(le.classes_)\n",
    "classes"
   ]
  },
  {
   "cell_type": "code",
   "execution_count": 9,
   "metadata": {},
   "outputs": [
    {
     "data": {
      "text/plain": [
       "('/people', 16)"
      ]
     },
     "execution_count": 9,
     "metadata": {},
     "output_type": "execute_result"
    }
   ],
   "source": [
    "y[0],y_encoded[0]"
   ]
  },
  {
   "cell_type": "code",
   "execution_count": 10,
   "metadata": {},
   "outputs": [],
   "source": [
    "X_train, X_test, y_train, y_test = model_selection.train_test_split(X, y_encoded, train_size=0.80, test_size=0.20, random_state=101)"
   ]
  },
  {
   "cell_type": "code",
   "execution_count": 11,
   "metadata": {},
   "outputs": [],
   "source": [
    "X_train = X_train[:957828]\n",
    "y_train = y_train[:957828]"
   ]
  },
  {
   "cell_type": "code",
   "execution_count": 12,
   "metadata": {},
   "outputs": [],
   "source": [
    "X_train = X_train[:50000]\n",
    "y_train = y_train[:50000]\n",
    "\n",
    "from sklearn.decomposition import PCA\n",
    " \n",
    "pca = PCA(n_components = 10)\n",
    " \n",
    "X_train = pca.fit_transform(X_train)\n",
    "X_test = pca.transform(X_test)"
   ]
  },
  {
   "cell_type": "code",
   "execution_count": 13,
   "metadata": {},
   "outputs": [],
   "source": [
    "rbf = svm.SVC(kernel='rbf', gamma=0.5, C=0.1).fit(X_train, y_train)\n",
    "# poly = svm.SVC(kernel='poly', degree=3, C=1).fit(X_train, y_train)"
   ]
  },
  {
   "cell_type": "code",
   "execution_count": 14,
   "metadata": {},
   "outputs": [],
   "source": [
    "# poly_pred = poly.predict(X_test)\n",
    "rbf_pred = rbf.predict(X_test)"
   ]
  },
  {
   "cell_type": "code",
   "execution_count": 15,
   "metadata": {},
   "outputs": [
    {
     "name": "stdout",
     "output_type": "stream",
     "text": [
      "GLOBAL FIGER LFT : \n",
      "Accuracy :  0.540512356148014\n",
      "Weighted F1 :  0.4643441171678644\n"
     ]
    }
   ],
   "source": [
    "rbf_accuracy = accuracy_score(y_test,rbf_pred)\n",
    "rbf_f1 = f1_score(y_test,rbf_pred,average='weighted')\n",
    "print('GLOBAL FIGER LFT : ')\n",
    "print('Accuracy : ', rbf_accuracy)\n",
    "print('Weighted F1 : ', rbf_f1)"
   ]
  },
  {
   "cell_type": "code",
   "execution_count": 16,
   "metadata": {},
   "outputs": [
    {
     "name": "stdout",
     "output_type": "stream",
     "text": [
      "GLOBAL FIGER LFT : \n",
      "Accuracy :  0.540512356148014\n",
      "Macro F1 :  0.07612884846362732\n"
     ]
    }
   ],
   "source": [
    "rbf_accuracy = accuracy_score(y_test,rbf_pred)\n",
    "rbf_f1 = f1_score(y_test,rbf_pred,average='macro')\n",
    "print('GLOBAL FIGER LFT : ')\n",
    "print('Accuracy : ', rbf_accuracy)\n",
    "print('Macro F1 : ', rbf_f1)"
   ]
  },
  {
   "cell_type": "code",
   "execution_count": 17,
   "metadata": {},
   "outputs": [
    {
     "name": "stdout",
     "output_type": "stream",
     "text": [
      "GLOBAL FIGER LFT : \n",
      "Accuracy :  0.540512356148014\n",
      "Micro F1 :  0.540512356148014\n"
     ]
    }
   ],
   "source": [
    "rbf_accuracy = accuracy_score(y_test,rbf_pred)\n",
    "rbf_f1 = f1_score(y_test,rbf_pred,average='micro')\n",
    "print('GLOBAL FIGER LFT : ')\n",
    "print('Accuracy : ', rbf_accuracy)\n",
    "print('Micro F1 : ', rbf_f1)"
   ]
  },
  {
   "cell_type": "code",
   "execution_count": null,
   "metadata": {},
   "outputs": [],
   "source": []
  }
 ],
 "metadata": {
  "kernelspec": {
   "display_name": "Python 3",
   "language": "python",
   "name": "python3"
  },
  "language_info": {
   "codemirror_mode": {
    "name": "ipython",
    "version": 3
   },
   "file_extension": ".py",
   "mimetype": "text/x-python",
   "name": "python",
   "nbconvert_exporter": "python",
   "pygments_lexer": "ipython3",
   "version": "3.6.8"
  }
 },
 "nbformat": 4,
 "nbformat_minor": 5
}
