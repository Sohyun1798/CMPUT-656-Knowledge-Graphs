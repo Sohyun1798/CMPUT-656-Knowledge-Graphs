{
 "cells": [
  {
   "cell_type": "code",
   "execution_count": 1,
   "id": "1058f519",
   "metadata": {},
   "outputs": [],
   "source": [
    "import pandas as pd\n",
    "from collections import Counter\n",
    "import json\n",
    "from sklearn import preprocessing\n",
    "from sklearn import svm, datasets\n",
    "import sklearn.model_selection as model_selection\n",
    "from sklearn.metrics import accuracy_score\n",
    "from sklearn.metrics import f1_score"
   ]
  },
  {
   "cell_type": "code",
   "execution_count": 2,
   "id": "d8cb699e",
   "metadata": {},
   "outputs": [
    {
     "data": {
      "text/html": [
       "<div>\n",
       "<style scoped>\n",
       "    .dataframe tbody tr th:only-of-type {\n",
       "        vertical-align: middle;\n",
       "    }\n",
       "\n",
       "    .dataframe tbody tr th {\n",
       "        vertical-align: top;\n",
       "    }\n",
       "\n",
       "    .dataframe thead th {\n",
       "        text-align: right;\n",
       "    }\n",
       "</style>\n",
       "<table border=\"1\" class=\"dataframe\">\n",
       "  <thead>\n",
       "    <tr style=\"text-align: right;\">\n",
       "      <th></th>\n",
       "      <th>Unnamed: 0</th>\n",
       "      <th>sentence_ID</th>\n",
       "      <th>entity_name</th>\n",
       "      <th>fine_grain</th>\n",
       "      <th>sentence</th>\n",
       "      <th>global coarse grained</th>\n",
       "    </tr>\n",
       "  </thead>\n",
       "  <tbody>\n",
       "    <tr>\n",
       "      <th>0</th>\n",
       "      <td>0</td>\n",
       "      <td>0</td>\n",
       "      <td>Out Hud</td>\n",
       "      <td>['/person/musician', '/person/artist', '/person']</td>\n",
       "      <td>The band also shared membership with the simil...</td>\n",
       "      <td>person</td>\n",
       "    </tr>\n",
       "    <tr>\n",
       "      <th>1</th>\n",
       "      <td>1</td>\n",
       "      <td>0</td>\n",
       "      <td>LCD Soundsystem</td>\n",
       "      <td>['/person/musician', '/person/artist', '/person']</td>\n",
       "      <td>The band also shared membership with the simil...</td>\n",
       "      <td>person</td>\n",
       "    </tr>\n",
       "    <tr>\n",
       "      <th>2</th>\n",
       "      <td>2</td>\n",
       "      <td>0</td>\n",
       "      <td>Cake</td>\n",
       "      <td>['/person/musician', '/person/artist', '/person']</td>\n",
       "      <td>The band also shared membership with the simil...</td>\n",
       "      <td>person</td>\n",
       "    </tr>\n",
       "    <tr>\n",
       "      <th>3</th>\n",
       "      <td>3</td>\n",
       "      <td>1</td>\n",
       "      <td>Maserati</td>\n",
       "      <td>['/person/musician', '/person/artist', '/person']</td>\n",
       "      <td>On November 8 , 2009 , the band 's former drum...</td>\n",
       "      <td>organization</td>\n",
       "    </tr>\n",
       "    <tr>\n",
       "      <th>4</th>\n",
       "      <td>4</td>\n",
       "      <td>1</td>\n",
       "      <td>Turing Machine</td>\n",
       "      <td>['/person/musician', '/person/artist', '/person']</td>\n",
       "      <td>On November 8 , 2009 , the band 's former drum...</td>\n",
       "      <td>person</td>\n",
       "    </tr>\n",
       "  </tbody>\n",
       "</table>\n",
       "</div>"
      ],
      "text/plain": [
       "   Unnamed: 0  sentence_ID      entity_name  \\\n",
       "0           0            0          Out Hud   \n",
       "1           1            0  LCD Soundsystem   \n",
       "2           2            0             Cake   \n",
       "3           3            1         Maserati   \n",
       "4           4            1   Turing Machine   \n",
       "\n",
       "                                          fine_grain  \\\n",
       "0  ['/person/musician', '/person/artist', '/person']   \n",
       "1  ['/person/musician', '/person/artist', '/person']   \n",
       "2  ['/person/musician', '/person/artist', '/person']   \n",
       "3  ['/person/musician', '/person/artist', '/person']   \n",
       "4  ['/person/musician', '/person/artist', '/person']   \n",
       "\n",
       "                                            sentence global coarse grained  \n",
       "0  The band also shared membership with the simil...                person  \n",
       "1  The band also shared membership with the simil...                person  \n",
       "2  The band also shared membership with the simil...                person  \n",
       "3  On November 8 , 2009 , the band 's former drum...          organization  \n",
       "4  On November 8 , 2009 , the band 's former drum...                person  "
      ]
     },
     "execution_count": 2,
     "metadata": {},
     "output_type": "execute_result"
    }
   ],
   "source": [
    "df = pd.read_csv('global_MFT_dataset.csv')\n",
    "df.head()"
   ]
  },
  {
   "cell_type": "code",
   "execution_count": 3,
   "id": "b66a88bd",
   "metadata": {},
   "outputs": [],
   "source": [
    "with open('global_entity_name_conceptNET_embeddings.json', 'r') as f:\n",
    "    data = json.load(f)"
   ]
  },
  {
   "cell_type": "code",
   "execution_count": 4,
   "id": "cf614835",
   "metadata": {},
   "outputs": [],
   "source": [
    "entities = list(df['entity_name'].values)\n",
    "coarse_grained = list(df['global coarse grained'].values)\n",
    "X = []\n",
    "out_of_vocab = 0\n",
    "in_vocab = 0\n",
    "y = []\n",
    "for entity, coarse_grain in zip(entities,coarse_grained):\n",
    "    if entity not in data:out_of_vocab+=1\n",
    "    else:\n",
    "        in_vocab+=1\n",
    "        X.append(data[entity])\n",
    "        y.append(coarse_grain)"
   ]
  },
  {
   "cell_type": "code",
   "execution_count": 5,
   "id": "3d8cf59c",
   "metadata": {},
   "outputs": [
    {
     "data": {
      "text/plain": [
       "(215586, 2394570)"
      ]
     },
     "execution_count": 5,
     "metadata": {},
     "output_type": "execute_result"
    }
   ],
   "source": [
    "out_of_vocab, in_vocab"
   ]
  },
  {
   "cell_type": "code",
   "execution_count": 6,
   "id": "1fe4c7db",
   "metadata": {},
   "outputs": [],
   "source": [
    "le = preprocessing.LabelEncoder()\n",
    "le.fit(y)\n",
    "y_encoded = le.transform(y)"
   ]
  },
  {
   "cell_type": "code",
   "execution_count": 7,
   "id": "5dbbb2ba",
   "metadata": {},
   "outputs": [
    {
     "data": {
      "text/plain": [
       "['art',\n",
       " 'broadcast_program',\n",
       " 'building',\n",
       " 'chemistry',\n",
       " 'education',\n",
       " 'event',\n",
       " 'game',\n",
       " 'geography',\n",
       " 'government',\n",
       " 'language',\n",
       " 'living_thing',\n",
       " 'location',\n",
       " 'medicine',\n",
       " 'military',\n",
       " 'music',\n",
       " 'organization',\n",
       " 'people',\n",
       " 'person',\n",
       " 'product',\n",
       " 'religion',\n",
       " 'software',\n",
       " 'title',\n",
       " 'transportation',\n",
       " 'written_work']"
      ]
     },
     "execution_count": 7,
     "metadata": {},
     "output_type": "execute_result"
    }
   ],
   "source": [
    "classes = list(le.classes_)\n",
    "classes"
   ]
  },
  {
   "cell_type": "code",
   "execution_count": 8,
   "id": "de26fb84",
   "metadata": {},
   "outputs": [
    {
     "data": {
      "text/plain": [
       "('person', 17)"
      ]
     },
     "execution_count": 8,
     "metadata": {},
     "output_type": "execute_result"
    }
   ],
   "source": [
    "y[0],y_encoded[0]"
   ]
  },
  {
   "cell_type": "code",
   "execution_count": 9,
   "id": "46bb3a0f",
   "metadata": {},
   "outputs": [],
   "source": [
    "X_train, X_test, y_train, y_test = model_selection.train_test_split(X, y_encoded, train_size=0.80, test_size=0.20, random_state=101)"
   ]
  },
  {
   "cell_type": "code",
   "execution_count": 12,
   "id": "ae6a5d85",
   "metadata": {},
   "outputs": [],
   "source": [
    "X_train = X_train[:957828]\n",
    "y_train = y_train[:957828]"
   ]
  },
  {
   "cell_type": "code",
   "execution_count": null,
   "id": "9675f4f4",
   "metadata": {},
   "outputs": [],
   "source": [
    "rbf = svm.SVC(kernel='rbf', gamma=0.5, C=0.1).fit(X_train, y_train)\n",
    "# poly = svm.SVC(kernel='poly', degree=3, C=1).fit(X_train, y_train)"
   ]
  },
  {
   "cell_type": "code",
   "execution_count": null,
   "id": "421b90aa",
   "metadata": {},
   "outputs": [],
   "source": [
    "# poly_pred = poly.predict(X_test)\n",
    "rbf_pred = rbf.predict(X_test)"
   ]
  },
  {
   "cell_type": "code",
   "execution_count": 11,
   "id": "5c9e104f",
   "metadata": {},
   "outputs": [
    {
     "data": {
      "text/plain": [
       "957828.0"
      ]
     },
     "execution_count": 11,
     "metadata": {},
     "output_type": "execute_result"
    }
   ],
   "source": [
    "1915656/2"
   ]
  },
  {
   "cell_type": "code",
   "execution_count": null,
   "id": "327fac4f",
   "metadata": {},
   "outputs": [],
   "source": []
  }
 ],
 "metadata": {
  "kernelspec": {
   "display_name": "Python 3 (ipykernel)",
   "language": "python",
   "name": "python3"
  },
  "language_info": {
   "codemirror_mode": {
    "name": "ipython",
    "version": 3
   },
   "file_extension": ".py",
   "mimetype": "text/x-python",
   "name": "python",
   "nbconvert_exporter": "python",
   "pygments_lexer": "ipython3",
   "version": "3.8.8"
  }
 },
 "nbformat": 4,
 "nbformat_minor": 5
}
